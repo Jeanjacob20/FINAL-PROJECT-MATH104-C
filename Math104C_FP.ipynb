{
 "cells": [
  {
   "cell_type": "markdown",
   "metadata": {},
   "source": [
    "# Final Project Math104 C"
   ]
  },
  {
   "cell_type": "markdown",
   "metadata": {},
   "source": [
    "## The cellar"
   ]
  },
  {
   "cell_type": "markdown",
   "metadata": {},
   "source": [
    "### a)"
   ]
  },
  {
   "cell_type": "markdown",
   "metadata": {},
   "source": [
    "\n",
    "Let $L$ be an arbitrary depth, and let's consider a space discretization $x_0<...<x_M$ with $x_0=0$ and $x_{i+1}=x_i + \\Delta x$ for all $i \\geq 0$,\n",
    "where $\\Delta x = \\frac{L}{M}$. We can then replace $\\frac{\\partial ^2 u}{\\partial x^2}$ using a three-point finite difference approximation :\n",
    "$$ \\frac{\\partial ^2 u}{\\partial x^2} (x_i,t) \\approx \\frac{u(x_{i+1},t) + u(x_{i-1},t) - 2u(x_i,t)}{\\Delta x^2} $$\n",
    "Using Taylor's approximation, we find its truncation error to be $O((\\Delta x)^2)$\n",
    "\n",
    "If we now consider $L$ to be large enough, we can write $u(L,t) \\approx u(\\infty, t) = 0$ (this is not very mathematical but writing it properly in Markdown would be a pain).\n",
    "\n",
    "To avoid cumbersome notation, let $u_i(t) = u(x_i, t)$ for all i. We thus get an N-1 dimensional ODE initial value problem :\n",
    "$$ \\frac{du_i(t)}{dt} = \\kappa \\frac{u_{i+1}(t) + u_{i-1}(t) - 2u_i(t)}{\\Delta x^2}$$\n",
    "\n",
    "Which we solve through a backward difference scheme for a time discretization $t_0<...<t_N$ with arbitrary non-zero $t_0$ and $t_{j+1} = t_{j} + \\Delta t$ where $\\Delta t = \\frac{Y}{N}$ :\n",
    "\n",
    "$$ \\frac{u_i(t_{j+1})-u_i(t_j)}{\\Delta t} = \\kappa \\frac{u_{i+1}(t_j) + u_{i-1}(t_j) - 2u_i(t_j)}{\\Delta x^2}\\space (1)$$\n",
    "\n",
    "Once again, through Taylor's approximation, we find the left side of this last equation to be $O(\\Delta t)$.\n",
    "\n",
    "Hence this scheme's local truncation error is $O(\\Delta t + (\\Delta x)^2)$. Thus ***the scheme is of time order 1 and spatial order 2***, from which it follows that ***the scheme is consistent*** (according to definition 13.5 of the lecture notes).\n",
    "\n",
    "Once again, to avoid cumbersome notation, let $u_i^j=u_i(t_j)$, and $\\alpha = \\frac{\\Delta t}{(\\Delta x)^2}$. Suppose now we know for a certain m all $u_m^n$, and we wish to compute all $u_m^{n+1}$.\n",
    "\n",
    "We can thus rewrite the ODE problem described by (1) as :\n",
    "$$ \\begin{bmatrix}\n",
    "1+2\\alpha & - \\alpha & 0 & - & 0 \\\\\n",
    "- \\alpha & 1+2\\alpha & - \\alpha &  & 0 \\\\\n",
    "0 & - \\alpha & ... &  &  \\\\\n",
    "| &  &  & ... & - \\alpha \\\\\n",
    "0 & 0 & e_3 & - \\alpha & 1+2\\alpha \n",
    "\\end{bmatrix}  \\begin{bmatrix} u_1^{n+1} \\\\ : \\\\ . \\\\ \\\\ u_{M-1}^{n+1}  \\end{bmatrix} = \\begin{bmatrix}\n",
    "u_1^{n} \\\\\n",
    ": \\\\\n",
    ". \\\\\n",
    " \\\\\n",
    "u_{M-1}^{n} \n",
    "\\end{bmatrix} + \\begin{bmatrix}\n",
    "\\alpha u_0^{n+1} \\\\\n",
    ": \\\\\n",
    ". \\\\\n",
    " \\\\\n",
    "\\alpha u_{M}^{n+1} \n",
    "\\end{bmatrix} \\space (2)$$\n",
    "\n",
    "Solving the scheme is thus equivalent at each time step to solving a linear system :\n",
    "$ AU^{m+1} = b^m $ where A is the tridiagonal matrix, $U^{m+1}$ the vector with the unknown $u_m^{n+1}$, and $b^m$ is the known right side of (2). We thus are able to find $u_m^{n+1}$ as a function of the $u_m^n$.\n",
    "\n",
    "We furthermore notice that for all values of $ \\alpha >0$, the norm of A is lesser than 1, which allows us to conclude that ***the scheme is unconditionally stable***.\n",
    "\n"
   ]
  },
  {
   "cell_type": "markdown",
   "metadata": {},
   "source": [
    "### b)"
   ]
  },
  {
   "cell_type": "code",
   "execution_count": 24,
   "metadata": {},
   "outputs": [],
   "source": [
    "import math\n",
    "import numpy as np\n",
    "from scipy import sparse\n",
    "from scipy.fftpack import *\n",
    "from scipy.sparse import diags\n",
    "import matplotlib.pyplot as plt"
   ]
  },
  {
   "cell_type": "code",
   "execution_count": 32,
   "metadata": {},
   "outputs": [],
   "source": [
    "def Backwards(M, T = 3.15*(10**7), L = 10000, k =2*(10**(-3)), q = 0.0071):\n",
    "    # M = GRID POINTS on space interval\n",
    "    N = (M**2) #GRID POINTS on time interval\n",
    "\n",
    "    x0, xL = 0, L \n",
    "\n",
    "    dx = (xL - x0)/(M-1)\n",
    "\n",
    "    t0, tF = 1, T+1 \n",
    "\n",
    "    dt = (tF - t0)/(N-1)\n",
    "\n",
    "    alpha = k*dt/(dx**2)\n",
    "\n",
    "    xspan = np.linspace(x0, xL, M)\n",
    "    tspan = np.linspace(t0, tF, N)\n",
    "\n",
    "    main_diag = (1 + 2*alpha)*np.ones((1,M))\n",
    "    off_diag = -alpha*np.ones((1, M-1))\n",
    "    a = main_diag.shape[1]\n",
    "    diagonals = [main_diag, off_diag, off_diag]\n",
    "\n",
    "    A = sparse.diags(diagonals, [0,-1,1], shape=(a,a)).toarray()\n",
    "    A[0,1] = -2*alpha\n",
    "    A[M-1,M-2] = -2*alpha\n",
    "\n",
    "    # --- Initialize U -----\n",
    "    U = np.zeros((M, N))\n",
    "\n",
    "    # ---- Boundary conditions -----\n",
    "    f = np.arange(1, N+1) #LeftBC\n",
    "    f = U[0,:] = np.sin(2.0*(np.pi/T)*tspan)\n",
    "    \n",
    "    g = np.arange(1, N+1) #RightBC\n",
    "    g = U[-1,:] = np.zeros(N)\n",
    "    \n",
    "    # --- Initial condition -----\n",
    "    U[:,0] = np.sin(2.0*(np.pi/T)*t0) * np.exp((-q) * xspan)\n",
    "\n",
    "    for i in range(1, N):\n",
    "        c = np.zeros((M-2,1)).ravel()\n",
    "        b1 = np.asarray([2*alpha*dx*f[i], 2*alpha*dx*g[i]])\n",
    "        b1 = np.insert(b1, 1, c)\n",
    "        b2 = np.array(U[0:M, i-1])\n",
    "        b = b1 + b2  # Right hand side\n",
    "        U[0:M, i] = np.linalg.solve(A,b)  # Solve x=A\\b\n",
    "   \n",
    "    return (U, tspan, xspan)\n",
    "\n",
    "U, tspan, xspan = Backwards(M = 11)"
   ]
  },
  {
   "cell_type": "code",
   "execution_count": 26,
   "metadata": {},
   "outputs": [
    {
     "data": {
      "text/plain": [
       "array([  0.,  10.,  20.,  30.,  40.,  50.,  60.,  70.,  80.,  90., 100.])"
      ]
     },
     "execution_count": 26,
     "metadata": {},
     "output_type": "execute_result"
    }
   ],
   "source": [
    "#These are the depths we computed the solution on\n",
    "depth = xspan/100\n",
    "depth"
   ]
  },
  {
   "cell_type": "code",
   "execution_count": 27,
   "metadata": {},
   "outputs": [],
   "source": [
    "months = tspan/2.628e+6 #time in months rather than seconds\n",
    "idx = [x+1 for x in range(0, 120 ,10)]"
   ]
  },
  {
   "cell_type": "code",
   "execution_count": 28,
   "metadata": {},
   "outputs": [
    {
     "data": {
      "image/png": "[encoded data removed]",
      "text/plain": [
       "<Figure size 432x288 with 1 Axes>"
      ]
     },
     "metadata": {
      "needs_background": "light"
     },
     "output_type": "display_data"
    }
   ],
   "source": [
    "for i in idx:\n",
    "    plt.plot(depth, U[:,i], )\n",
    "    plt.legend([m for m in range(1,13)]) # the numbers represent the months of the year"
   ]
  },
  {
   "cell_type": "markdown",
   "metadata": {},
   "source": [
    "### c)"
   ]
  },
  {
   "cell_type": "code",
   "execution_count": 29,
   "metadata": {},
   "outputs": [
    {
     "data": {
      "text/plain": [
       "[<matplotlib.lines.Line2D at 0x7fb68f576fa0>]"
      ]
     },
     "execution_count": 29,
     "metadata": {},
     "output_type": "execute_result"
    },
    {
     "data": {
      "image/png": "[encoded data removed]",
      "text/plain": [
       "<Figure size 432x288 with 1 Axes>"
      ]
     },
     "metadata": {
      "needs_background": "light"
     },
     "output_type": "display_data"
    }
   ],
   "source": [
    "plt.plot(months, U[0,:]) #temperature at the surface"
   ]
  },
  {
   "cell_type": "code",
   "execution_count": 30,
   "metadata": {},
   "outputs": [
    {
     "data": {
      "text/plain": [
       "[<matplotlib.lines.Line2D at 0x7fb68f0e30a0>]"
      ]
     },
     "execution_count": 30,
     "metadata": {},
     "output_type": "execute_result"
    },
    {
     "data": {
      "image/png": "[encoded data removed]",
      "text/plain": [
       "<Figure size 432x288 with 1 Axes>"
      ]
     },
     "metadata": {
      "needs_background": "light"
     },
     "output_type": "display_data"
    }
   ],
   "source": [
    "plt.plot(months, U[1,:]) #temperature at depth[1]"
   ]
  },
  {
   "cell_type": "code",
   "execution_count": 31,
   "metadata": {},
   "outputs": [
    {
     "name": "stdout",
     "output_type": "stream",
     "text": [
      "Thus the depth at which the temperature is opposite in phase to the ground is 10m\n"
     ]
    }
   ],
   "source": [
    "print('Thus the depth at which the temperature is opposite in phase to the ground is '+str(round(depth[1]))+'m')"
   ]
  },
  {
   "cell_type": "code",
   "execution_count": null,
   "metadata": {},
   "outputs": [],
   "source": []
  }
 ],
 "metadata": {
  "kernelspec": {
   "display_name": "Python 3",
   "language": "python",
   "name": "python3"
  },
  "language_info": {
   "codemirror_mode": {
    "name": "ipython",
    "version": 3
   },
   "file_extension": ".py",
   "mimetype": "text/x-python",
   "name": "python",
   "nbconvert_exporter": "python",
   "pygments_lexer": "ipython3",
   "version": "3.8.5"
  }
 },
 "nbformat": 4,
 "nbformat_minor": 4
}
